{
  "nbformat": 4,
  "nbformat_minor": 0,
  "metadata": {
    "colab": {
      "provenance": []
    },
    "kernelspec": {
      "name": "python3",
      "display_name": "Python 3"
    },
    "language_info": {
      "name": "python"
    }
  },
  "cells": [
    {
      "cell_type": "code",
      "execution_count": 8,
      "metadata": {
        "id": "Vqwhs5Wq_OGe"
      },
      "outputs": [],
      "source": [
        "import pandas as pd\n",
        "from sklearn.model_selection import train_test_split\n",
        "from sklearn.linear_model import LinearRegression\n",
        "from sklearn import metrics"
      ]
    },
    {
      "cell_type": "code",
      "source": [
        "# Assuming your data file is in CSV format\n",
        "df = pd.read_csv('/content/Final_Dataset.csv')\n"
      ],
      "metadata": {
        "id": "4g0v1KrF_sp-"
      },
      "execution_count": 9,
      "outputs": []
    },
    {
      "cell_type": "code",
      "source": [
        "df['DATE'] = pd.to_datetime(df['DATE'], format='%d-%m-%Y')\n",
        "df.set_index('DATE', inplace=True)"
      ],
      "metadata": {
        "id": "Y_pJwlw0D1cg"
      },
      "execution_count": 10,
      "outputs": []
    },
    {
      "cell_type": "code",
      "source": [
        "df"
      ],
      "metadata": {
        "colab": {
          "base_uri": "https://localhost:8080/",
          "height": 455
        },
        "id": "yS7ikHNlEDoF",
        "outputId": "cc466fe5-528f-4a69-da78-eb22bb2bd0e0"
      },
      "execution_count": 11,
      "outputs": [
        {
          "output_type": "execute_result",
          "data": {
            "text/plain": [
              "                CPI      M2  UNRATE    DSPI     PCE  FEDFUNDS   INDPRO   M1SL\n",
              "DATE                                                                         \n",
              "1990-01-01  132.100  3166.8     5.4  4208.4  3730.7      8.23  61.6440  795.4\n",
              "1990-02-01  132.700  3179.2     5.3  4236.3  3728.2      8.24  62.2108  798.1\n",
              "1990-03-01  133.500  3190.1     5.2  4254.0  3754.9      8.28  62.5068  801.5\n",
              "1990-04-01  134.000  3201.6     5.4  4290.8  3770.0      8.26  62.3597  806.1\n",
              "1990-05-01  134.400  3200.6     5.4  4296.0  3775.8      8.18  62.5474  804.2\n",
              "...             ...     ...     ...     ...     ...       ...      ...    ...\n",
              "2023-06-01  308.309     NaN     NaN     NaN     NaN       NaN      NaN    NaN\n",
              "2023-07-01  308.801     NaN     NaN     NaN     NaN       NaN      NaN    NaN\n",
              "2023-08-01  309.661     NaN     NaN     NaN     NaN       NaN      NaN    NaN\n",
              "2023-09-01  310.661     NaN     NaN     NaN     NaN       NaN      NaN    NaN\n",
              "2023-10-01  311.365     NaN     NaN     NaN     NaN       NaN      NaN    NaN\n",
              "\n",
              "[406 rows x 8 columns]"
            ],
            "text/html": [
              "\n",
              "  <div id=\"df-a9167a30-776b-41e8-a8a3-320dfff0ba31\" class=\"colab-df-container\">\n",
              "    <div>\n",
              "<style scoped>\n",
              "    .dataframe tbody tr th:only-of-type {\n",
              "        vertical-align: middle;\n",
              "    }\n",
              "\n",
              "    .dataframe tbody tr th {\n",
              "        vertical-align: top;\n",
              "    }\n",
              "\n",
              "    .dataframe thead th {\n",
              "        text-align: right;\n",
              "    }\n",
              "</style>\n",
              "<table border=\"1\" class=\"dataframe\">\n",
              "  <thead>\n",
              "    <tr style=\"text-align: right;\">\n",
              "      <th></th>\n",
              "      <th>CPI</th>\n",
              "      <th>M2</th>\n",
              "      <th>UNRATE</th>\n",
              "      <th>DSPI</th>\n",
              "      <th>PCE</th>\n",
              "      <th>FEDFUNDS</th>\n",
              "      <th>INDPRO</th>\n",
              "      <th>M1SL</th>\n",
              "    </tr>\n",
              "    <tr>\n",
              "      <th>DATE</th>\n",
              "      <th></th>\n",
              "      <th></th>\n",
              "      <th></th>\n",
              "      <th></th>\n",
              "      <th></th>\n",
              "      <th></th>\n",
              "      <th></th>\n",
              "      <th></th>\n",
              "    </tr>\n",
              "  </thead>\n",
              "  <tbody>\n",
              "    <tr>\n",
              "      <th>1990-01-01</th>\n",
              "      <td>132.100</td>\n",
              "      <td>3166.8</td>\n",
              "      <td>5.4</td>\n",
              "      <td>4208.4</td>\n",
              "      <td>3730.7</td>\n",
              "      <td>8.23</td>\n",
              "      <td>61.6440</td>\n",
              "      <td>795.4</td>\n",
              "    </tr>\n",
              "    <tr>\n",
              "      <th>1990-02-01</th>\n",
              "      <td>132.700</td>\n",
              "      <td>3179.2</td>\n",
              "      <td>5.3</td>\n",
              "      <td>4236.3</td>\n",
              "      <td>3728.2</td>\n",
              "      <td>8.24</td>\n",
              "      <td>62.2108</td>\n",
              "      <td>798.1</td>\n",
              "    </tr>\n",
              "    <tr>\n",
              "      <th>1990-03-01</th>\n",
              "      <td>133.500</td>\n",
              "      <td>3190.1</td>\n",
              "      <td>5.2</td>\n",
              "      <td>4254.0</td>\n",
              "      <td>3754.9</td>\n",
              "      <td>8.28</td>\n",
              "      <td>62.5068</td>\n",
              "      <td>801.5</td>\n",
              "    </tr>\n",
              "    <tr>\n",
              "      <th>1990-04-01</th>\n",
              "      <td>134.000</td>\n",
              "      <td>3201.6</td>\n",
              "      <td>5.4</td>\n",
              "      <td>4290.8</td>\n",
              "      <td>3770.0</td>\n",
              "      <td>8.26</td>\n",
              "      <td>62.3597</td>\n",
              "      <td>806.1</td>\n",
              "    </tr>\n",
              "    <tr>\n",
              "      <th>1990-05-01</th>\n",
              "      <td>134.400</td>\n",
              "      <td>3200.6</td>\n",
              "      <td>5.4</td>\n",
              "      <td>4296.0</td>\n",
              "      <td>3775.8</td>\n",
              "      <td>8.18</td>\n",
              "      <td>62.5474</td>\n",
              "      <td>804.2</td>\n",
              "    </tr>\n",
              "    <tr>\n",
              "      <th>...</th>\n",
              "      <td>...</td>\n",
              "      <td>...</td>\n",
              "      <td>...</td>\n",
              "      <td>...</td>\n",
              "      <td>...</td>\n",
              "      <td>...</td>\n",
              "      <td>...</td>\n",
              "      <td>...</td>\n",
              "    </tr>\n",
              "    <tr>\n",
              "      <th>2023-06-01</th>\n",
              "      <td>308.309</td>\n",
              "      <td>NaN</td>\n",
              "      <td>NaN</td>\n",
              "      <td>NaN</td>\n",
              "      <td>NaN</td>\n",
              "      <td>NaN</td>\n",
              "      <td>NaN</td>\n",
              "      <td>NaN</td>\n",
              "    </tr>\n",
              "    <tr>\n",
              "      <th>2023-07-01</th>\n",
              "      <td>308.801</td>\n",
              "      <td>NaN</td>\n",
              "      <td>NaN</td>\n",
              "      <td>NaN</td>\n",
              "      <td>NaN</td>\n",
              "      <td>NaN</td>\n",
              "      <td>NaN</td>\n",
              "      <td>NaN</td>\n",
              "    </tr>\n",
              "    <tr>\n",
              "      <th>2023-08-01</th>\n",
              "      <td>309.661</td>\n",
              "      <td>NaN</td>\n",
              "      <td>NaN</td>\n",
              "      <td>NaN</td>\n",
              "      <td>NaN</td>\n",
              "      <td>NaN</td>\n",
              "      <td>NaN</td>\n",
              "      <td>NaN</td>\n",
              "    </tr>\n",
              "    <tr>\n",
              "      <th>2023-09-01</th>\n",
              "      <td>310.661</td>\n",
              "      <td>NaN</td>\n",
              "      <td>NaN</td>\n",
              "      <td>NaN</td>\n",
              "      <td>NaN</td>\n",
              "      <td>NaN</td>\n",
              "      <td>NaN</td>\n",
              "      <td>NaN</td>\n",
              "    </tr>\n",
              "    <tr>\n",
              "      <th>2023-10-01</th>\n",
              "      <td>311.365</td>\n",
              "      <td>NaN</td>\n",
              "      <td>NaN</td>\n",
              "      <td>NaN</td>\n",
              "      <td>NaN</td>\n",
              "      <td>NaN</td>\n",
              "      <td>NaN</td>\n",
              "      <td>NaN</td>\n",
              "    </tr>\n",
              "  </tbody>\n",
              "</table>\n",
              "<p>406 rows × 8 columns</p>\n",
              "</div>\n",
              "    <div class=\"colab-df-buttons\">\n",
              "\n",
              "  <div class=\"colab-df-container\">\n",
              "    <button class=\"colab-df-convert\" onclick=\"convertToInteractive('df-a9167a30-776b-41e8-a8a3-320dfff0ba31')\"\n",
              "            title=\"Convert this dataframe to an interactive table.\"\n",
              "            style=\"display:none;\">\n",
              "\n",
              "  <svg xmlns=\"http://www.w3.org/2000/svg\" height=\"24px\" viewBox=\"0 -960 960 960\">\n",
              "    <path d=\"M120-120v-720h720v720H120Zm60-500h600v-160H180v160Zm220 220h160v-160H400v160Zm0 220h160v-160H400v160ZM180-400h160v-160H180v160Zm440 0h160v-160H620v160ZM180-180h160v-160H180v160Zm440 0h160v-160H620v160Z\"/>\n",
              "  </svg>\n",
              "    </button>\n",
              "\n",
              "  <style>\n",
              "    .colab-df-container {\n",
              "      display:flex;\n",
              "      gap: 12px;\n",
              "    }\n",
              "\n",
              "    .colab-df-convert {\n",
              "      background-color: #E8F0FE;\n",
              "      border: none;\n",
              "      border-radius: 50%;\n",
              "      cursor: pointer;\n",
              "      display: none;\n",
              "      fill: #1967D2;\n",
              "      height: 32px;\n",
              "      padding: 0 0 0 0;\n",
              "      width: 32px;\n",
              "    }\n",
              "\n",
              "    .colab-df-convert:hover {\n",
              "      background-color: #E2EBFA;\n",
              "      box-shadow: 0px 1px 2px rgba(60, 64, 67, 0.3), 0px 1px 3px 1px rgba(60, 64, 67, 0.15);\n",
              "      fill: #174EA6;\n",
              "    }\n",
              "\n",
              "    .colab-df-buttons div {\n",
              "      margin-bottom: 4px;\n",
              "    }\n",
              "\n",
              "    [theme=dark] .colab-df-convert {\n",
              "      background-color: #3B4455;\n",
              "      fill: #D2E3FC;\n",
              "    }\n",
              "\n",
              "    [theme=dark] .colab-df-convert:hover {\n",
              "      background-color: #434B5C;\n",
              "      box-shadow: 0px 1px 3px 1px rgba(0, 0, 0, 0.15);\n",
              "      filter: drop-shadow(0px 1px 2px rgba(0, 0, 0, 0.3));\n",
              "      fill: #FFFFFF;\n",
              "    }\n",
              "  </style>\n",
              "\n",
              "    <script>\n",
              "      const buttonEl =\n",
              "        document.querySelector('#df-a9167a30-776b-41e8-a8a3-320dfff0ba31 button.colab-df-convert');\n",
              "      buttonEl.style.display =\n",
              "        google.colab.kernel.accessAllowed ? 'block' : 'none';\n",
              "\n",
              "      async function convertToInteractive(key) {\n",
              "        const element = document.querySelector('#df-a9167a30-776b-41e8-a8a3-320dfff0ba31');\n",
              "        const dataTable =\n",
              "          await google.colab.kernel.invokeFunction('convertToInteractive',\n",
              "                                                    [key], {});\n",
              "        if (!dataTable) return;\n",
              "\n",
              "        const docLinkHtml = 'Like what you see? Visit the ' +\n",
              "          '<a target=\"_blank\" href=https://colab.research.google.com/notebooks/data_table.ipynb>data table notebook</a>'\n",
              "          + ' to learn more about interactive tables.';\n",
              "        element.innerHTML = '';\n",
              "        dataTable['output_type'] = 'display_data';\n",
              "        await google.colab.output.renderOutput(dataTable, element);\n",
              "        const docLink = document.createElement('div');\n",
              "        docLink.innerHTML = docLinkHtml;\n",
              "        element.appendChild(docLink);\n",
              "      }\n",
              "    </script>\n",
              "  </div>\n",
              "\n",
              "\n",
              "<div id=\"df-62516611-7d18-493a-a71f-ff689c6dd658\">\n",
              "  <button class=\"colab-df-quickchart\" onclick=\"quickchart('df-62516611-7d18-493a-a71f-ff689c6dd658')\"\n",
              "            title=\"Suggest charts\"\n",
              "            style=\"display:none;\">\n",
              "\n",
              "<svg xmlns=\"http://www.w3.org/2000/svg\" height=\"24px\"viewBox=\"0 0 24 24\"\n",
              "     width=\"24px\">\n",
              "    <g>\n",
              "        <path d=\"M19 3H5c-1.1 0-2 .9-2 2v14c0 1.1.9 2 2 2h14c1.1 0 2-.9 2-2V5c0-1.1-.9-2-2-2zM9 17H7v-7h2v7zm4 0h-2V7h2v10zm4 0h-2v-4h2v4z\"/>\n",
              "    </g>\n",
              "</svg>\n",
              "  </button>\n",
              "\n",
              "<style>\n",
              "  .colab-df-quickchart {\n",
              "      --bg-color: #E8F0FE;\n",
              "      --fill-color: #1967D2;\n",
              "      --hover-bg-color: #E2EBFA;\n",
              "      --hover-fill-color: #174EA6;\n",
              "      --disabled-fill-color: #AAA;\n",
              "      --disabled-bg-color: #DDD;\n",
              "  }\n",
              "\n",
              "  [theme=dark] .colab-df-quickchart {\n",
              "      --bg-color: #3B4455;\n",
              "      --fill-color: #D2E3FC;\n",
              "      --hover-bg-color: #434B5C;\n",
              "      --hover-fill-color: #FFFFFF;\n",
              "      --disabled-bg-color: #3B4455;\n",
              "      --disabled-fill-color: #666;\n",
              "  }\n",
              "\n",
              "  .colab-df-quickchart {\n",
              "    background-color: var(--bg-color);\n",
              "    border: none;\n",
              "    border-radius: 50%;\n",
              "    cursor: pointer;\n",
              "    display: none;\n",
              "    fill: var(--fill-color);\n",
              "    height: 32px;\n",
              "    padding: 0;\n",
              "    width: 32px;\n",
              "  }\n",
              "\n",
              "  .colab-df-quickchart:hover {\n",
              "    background-color: var(--hover-bg-color);\n",
              "    box-shadow: 0 1px 2px rgba(60, 64, 67, 0.3), 0 1px 3px 1px rgba(60, 64, 67, 0.15);\n",
              "    fill: var(--button-hover-fill-color);\n",
              "  }\n",
              "\n",
              "  .colab-df-quickchart-complete:disabled,\n",
              "  .colab-df-quickchart-complete:disabled:hover {\n",
              "    background-color: var(--disabled-bg-color);\n",
              "    fill: var(--disabled-fill-color);\n",
              "    box-shadow: none;\n",
              "  }\n",
              "\n",
              "  .colab-df-spinner {\n",
              "    border: 2px solid var(--fill-color);\n",
              "    border-color: transparent;\n",
              "    border-bottom-color: var(--fill-color);\n",
              "    animation:\n",
              "      spin 1s steps(1) infinite;\n",
              "  }\n",
              "\n",
              "  @keyframes spin {\n",
              "    0% {\n",
              "      border-color: transparent;\n",
              "      border-bottom-color: var(--fill-color);\n",
              "      border-left-color: var(--fill-color);\n",
              "    }\n",
              "    20% {\n",
              "      border-color: transparent;\n",
              "      border-left-color: var(--fill-color);\n",
              "      border-top-color: var(--fill-color);\n",
              "    }\n",
              "    30% {\n",
              "      border-color: transparent;\n",
              "      border-left-color: var(--fill-color);\n",
              "      border-top-color: var(--fill-color);\n",
              "      border-right-color: var(--fill-color);\n",
              "    }\n",
              "    40% {\n",
              "      border-color: transparent;\n",
              "      border-right-color: var(--fill-color);\n",
              "      border-top-color: var(--fill-color);\n",
              "    }\n",
              "    60% {\n",
              "      border-color: transparent;\n",
              "      border-right-color: var(--fill-color);\n",
              "    }\n",
              "    80% {\n",
              "      border-color: transparent;\n",
              "      border-right-color: var(--fill-color);\n",
              "      border-bottom-color: var(--fill-color);\n",
              "    }\n",
              "    90% {\n",
              "      border-color: transparent;\n",
              "      border-bottom-color: var(--fill-color);\n",
              "    }\n",
              "  }\n",
              "</style>\n",
              "\n",
              "  <script>\n",
              "    async function quickchart(key) {\n",
              "      const quickchartButtonEl =\n",
              "        document.querySelector('#' + key + ' button');\n",
              "      quickchartButtonEl.disabled = true;  // To prevent multiple clicks.\n",
              "      quickchartButtonEl.classList.add('colab-df-spinner');\n",
              "      try {\n",
              "        const charts = await google.colab.kernel.invokeFunction(\n",
              "            'suggestCharts', [key], {});\n",
              "      } catch (error) {\n",
              "        console.error('Error during call to suggestCharts:', error);\n",
              "      }\n",
              "      quickchartButtonEl.classList.remove('colab-df-spinner');\n",
              "      quickchartButtonEl.classList.add('colab-df-quickchart-complete');\n",
              "    }\n",
              "    (() => {\n",
              "      let quickchartButtonEl =\n",
              "        document.querySelector('#df-62516611-7d18-493a-a71f-ff689c6dd658 button');\n",
              "      quickchartButtonEl.style.display =\n",
              "        google.colab.kernel.accessAllowed ? 'block' : 'none';\n",
              "    })();\n",
              "  </script>\n",
              "</div>\n",
              "    </div>\n",
              "  </div>\n"
            ]
          },
          "metadata": {},
          "execution_count": 11
        }
      ]
    },
    {
      "cell_type": "code",
      "source": [
        "df.isnull().sum()"
      ],
      "metadata": {
        "colab": {
          "base_uri": "https://localhost:8080/"
        },
        "id": "XaYnNq6CEKbX",
        "outputId": "eaecccee-94e1-434e-bd4a-97add932793e"
      },
      "execution_count": 12,
      "outputs": [
        {
          "output_type": "execute_result",
          "data": {
            "text/plain": [
              "CPI          0\n",
              "M2          45\n",
              "UNRATE      45\n",
              "DSPI        45\n",
              "PCE         45\n",
              "FEDFUNDS    45\n",
              "INDPRO      45\n",
              "M1SL        45\n",
              "dtype: int64"
            ]
          },
          "metadata": {},
          "execution_count": 12
        }
      ]
    },
    {
      "cell_type": "code",
      "source": [
        "df = df.dropna()"
      ],
      "metadata": {
        "id": "-7rL3J6XGDsm"
      },
      "execution_count": 13,
      "outputs": []
    },
    {
      "cell_type": "code",
      "source": [
        "\n",
        "\n",
        "# Split the data into independent variables (X) and the dependent variable (y)\n",
        "X = df.drop('CPI', axis=1)\n",
        "y = df['CPI']"
      ],
      "metadata": {
        "id": "_uuu3WHN_s09"
      },
      "execution_count": 14,
      "outputs": []
    },
    {
      "cell_type": "code",
      "source": [
        "\n",
        "\n",
        "\n",
        "\n",
        "# Split the data into training and testing sets\n",
        "X_train, X_test, y_train, y_test = train_test_split(X, y, test_size=0.2, random_state=42)\n",
        "\n",
        "# Create a linear regression model\n",
        "model = LinearRegression()\n",
        "\n",
        "# Fit the model to the training data\n",
        "model.fit(X_train, y_train)\n",
        "\n",
        "# Make predictions on the test set\n",
        "predictions = model.predict(X_test)\n"
      ],
      "metadata": {
        "id": "Vr0dULTzAFS7"
      },
      "execution_count": 15,
      "outputs": []
    },
    {
      "cell_type": "code",
      "source": [
        "\n",
        "# Evaluate the model\n",
        "print('Mean Absolute Error:', metrics.mean_absolute_error(y_test, predictions))\n",
        "print('Mean Squared Error:', metrics.mean_squared_error(y_test, predictions))\n",
        "print('Root Mean Squared Error:', metrics.mean_squared_error(y_test, predictions)**0.5)\n"
      ],
      "metadata": {
        "id": "9ZMCKJm4AHRh",
        "colab": {
          "base_uri": "https://localhost:8080/"
        },
        "outputId": "19de5918-995f-430f-f7c0-03a4f72f995e"
      },
      "execution_count": 16,
      "outputs": [
        {
          "output_type": "stream",
          "name": "stdout",
          "text": [
            "Mean Absolute Error: 1.7431515141202742\n",
            "Mean Squared Error: 4.226456549621279\n",
            "Root Mean Squared Error: 2.0558347573726055\n"
          ]
        }
      ]
    },
    {
      "cell_type": "code",
      "source": [
        "# Print the coefficients of the model\n",
        "coefficients = pd.DataFrame({'Variable': X.columns, 'Coefficient': model.coef_})\n",
        "print('\\nCoefficients:')\n",
        "print(coefficients)"
      ],
      "metadata": {
        "id": "uROA_oWKANe4",
        "colab": {
          "base_uri": "https://localhost:8080/"
        },
        "outputId": "0769b84b-7189-4060-c7c8-8269775eccac"
      },
      "execution_count": 17,
      "outputs": [
        {
          "output_type": "stream",
          "name": "stdout",
          "text": [
            "\n",
            "Coefficients:\n",
            "   Variable  Coefficient\n",
            "0        M2    -0.005218\n",
            "1    UNRATE     0.686589\n",
            "2      DSPI     0.004407\n",
            "3       PCE     0.007693\n",
            "4  FEDFUNDS    -0.848645\n",
            "5    INDPRO     0.352306\n",
            "6      M1SL     0.011262\n"
          ]
        }
      ]
    },
    {
      "cell_type": "code",
      "source": [
        "\n",
        "# Print the intercept of the model\n",
        "print('\\nIntercept:', model.intercept_)"
      ],
      "metadata": {
        "id": "0lkJJ-fsAR-O",
        "colab": {
          "base_uri": "https://localhost:8080/"
        },
        "outputId": "3c0bba41-c63f-417f-9c17-dfe3e9ce581a"
      },
      "execution_count": 18,
      "outputs": [
        {
          "output_type": "stream",
          "name": "stdout",
          "text": [
            "\n",
            "Intercept: 78.48772657779315\n"
          ]
        }
      ]
    },
    {
      "cell_type": "code",
      "source": [
        "import statsmodels.api as sm\n",
        "\n",
        "# Split the data into training and testing sets\n",
        "X_train, X_test, y_train, y_test = train_test_split(X, y, test_size=0.5, random_state=42)\n",
        "\n",
        "# Add a constant to the independent variables for the intercept term\n",
        "X_train_with_intercept = sm.add_constant(X_train)\n",
        "\n",
        "# Create a linear regression model using statsmodels\n",
        "model = sm.OLS(y_train, X_train_with_intercept).fit()\n",
        "\n",
        "# Print the summary to see p-values (significance) for each coefficient\n",
        "print(model.summary())"
      ],
      "metadata": {
        "colab": {
          "base_uri": "https://localhost:8080/"
        },
        "id": "zArpBOmjGiqs",
        "outputId": "adfd97db-d5f1-40b3-b9a9-d20ff479ece5"
      },
      "execution_count": 19,
      "outputs": [
        {
          "output_type": "stream",
          "name": "stdout",
          "text": [
            "                            OLS Regression Results                            \n",
            "==============================================================================\n",
            "Dep. Variable:                    CPI   R-squared:                       0.997\n",
            "Model:                            OLS   Adj. R-squared:                  0.997\n",
            "Method:                 Least Squares   F-statistic:                     7750.\n",
            "Date:                Thu, 07 Dec 2023   Prob (F-statistic):          2.04e-211\n",
            "Time:                        20:23:31   Log-Likelihood:                -381.81\n",
            "No. Observations:                 180   AIC:                             779.6\n",
            "Df Residuals:                     172   BIC:                             805.2\n",
            "Df Model:                           7                                         \n",
            "Covariance Type:            nonrobust                                         \n",
            "==============================================================================\n",
            "                 coef    std err          t      P>|t|      [0.025      0.975]\n",
            "------------------------------------------------------------------------------\n",
            "const         75.9788      4.600     16.518      0.000      66.900      85.058\n",
            "M2            -0.0053      0.001     -6.100      0.000      -0.007      -0.004\n",
            "UNRATE         0.7935      0.226      3.515      0.001       0.348       1.239\n",
            "DSPI           0.0054      0.002      3.607      0.000       0.002       0.008\n",
            "PCE            0.0067      0.002      3.990      0.000       0.003       0.010\n",
            "FEDFUNDS      -0.7825      0.153     -5.109      0.000      -1.085      -0.480\n",
            "INDPRO         0.3665      0.060      6.152      0.000       0.249       0.484\n",
            "M1SL           0.0110      0.002      6.939      0.000       0.008       0.014\n",
            "==============================================================================\n",
            "Omnibus:                        5.012   Durbin-Watson:                   2.078\n",
            "Prob(Omnibus):                  0.082   Jarque-Bera (JB):                5.122\n",
            "Skew:                           0.394   Prob(JB):                       0.0772\n",
            "Kurtosis:                       2.754   Cond. No.                     4.80e+05\n",
            "==============================================================================\n",
            "\n",
            "Notes:\n",
            "[1] Standard Errors assume that the covariance matrix of the errors is correctly specified.\n",
            "[2] The condition number is large, 4.8e+05. This might indicate that there are\n",
            "strong multicollinearity or other numerical problems.\n"
          ]
        }
      ]
    },
    {
      "cell_type": "code",
      "source": [
        "#regularization\n",
        "\n",
        "from sklearn.linear_model import Lasso, Ridge\n",
        "from sklearn.model_selection import train_test_split\n",
        "from sklearn.metrics import mean_squared_error\n",
        "import numpy as np\n",
        "\n",
        "# Assuming X_train, X_test, y_train, y_test are your training and testing data\n",
        "\n",
        "# Lasso Regression\n",
        "lasso_model = Lasso(alpha=0.01)  # You can adjust the alpha parameter\n",
        "lasso_model.fit(X_train, y_train)\n",
        "lasso_predictions = lasso_model.predict(X_test)\n",
        "\n",
        "# Ridge Regression\n",
        "ridge_model = Ridge(alpha=0.01)  # You can adjust the alpha parameter\n",
        "ridge_model.fit(X_train, y_train)\n",
        "ridge_predictions = ridge_model.predict(X_test)\n",
        "\n",
        "# Evaluate models\n",
        "lasso_rmse = np.sqrt(mean_squared_error(y_test, lasso_predictions))\n",
        "ridge_rmse = np.sqrt(mean_squared_error(y_test, ridge_predictions))\n",
        "\n",
        "print(\"Lasso RMSE:\", lasso_rmse)\n",
        "print(\"Ridge RMSE:\", ridge_rmse)\n",
        "\n",
        "# Print the coefficients for Lasso and Ridge\n",
        "lasso_coefficients = pd.DataFrame({'Variable': X.columns, 'Coefficient': lasso_model.coef_})\n",
        "ridge_coefficients = pd.DataFrame({'Variable': X.columns, 'Coefficient': ridge_model.coef_})\n",
        "\n",
        "print('\\nLasso Coefficients:')\n",
        "print(lasso_coefficients)\n",
        "\n",
        "print('\\nRidge Coefficients:')\n",
        "print(ridge_coefficients)\n"
      ],
      "metadata": {
        "colab": {
          "base_uri": "https://localhost:8080/"
        },
        "id": "jSVytbO08mYW",
        "outputId": "23273485-77ac-456f-a33b-39dede6d7005"
      },
      "execution_count": 20,
      "outputs": [
        {
          "output_type": "stream",
          "name": "stdout",
          "text": [
            "Lasso RMSE: 2.0945824965799473\n",
            "Ridge RMSE: 2.0193635114247166\n",
            "\n",
            "Lasso Coefficients:\n",
            "   Variable  Coefficient\n",
            "0        M2    -0.004756\n",
            "1    UNRATE     0.615173\n",
            "2      DSPI     0.009030\n",
            "3       PCE     0.002615\n",
            "4  FEDFUNDS    -0.844134\n",
            "5    INDPRO     0.377284\n",
            "6      M1SL     0.009073\n",
            "\n",
            "Ridge Coefficients:\n",
            "   Variable  Coefficient\n",
            "0        M2    -0.005275\n",
            "1    UNRATE     0.793465\n",
            "2      DSPI     0.005435\n",
            "3       PCE     0.006707\n",
            "4  FEDFUNDS    -0.782552\n",
            "5    INDPRO     0.366511\n",
            "6      M1SL     0.011008\n"
          ]
        },
        {
          "output_type": "stream",
          "name": "stderr",
          "text": [
            "/usr/local/lib/python3.10/dist-packages/sklearn/linear_model/_coordinate_descent.py:631: ConvergenceWarning: Objective did not converge. You might want to increase the number of iterations, check the scale of the features or consider increasing regularisation. Duality gap: 3.836e+02, tolerance: 2.320e+01\n",
            "  model = cd_fast.enet_coordinate_descent(\n"
          ]
        }
      ]
    },
    {
      "cell_type": "code",
      "source": [
        "#ridge lasso mae\n",
        "from sklearn.metrics import mean_absolute_error\n",
        "\n",
        "# Assuming lasso_model and ridge_model are your trained Lasso and Ridge models, and X_test, y_test are your test data\n",
        "\n",
        "# Predictions for Lasso and Ridge models\n",
        "lasso_predictions = lasso_model.predict(X_test)\n",
        "ridge_predictions = ridge_model.predict(X_test)\n",
        "\n",
        "# Calculate MAE for Lasso and Ridge\n",
        "lasso_mae = mean_absolute_error(y_test, lasso_predictions)\n",
        "ridge_mae = mean_absolute_error(y_test, ridge_predictions)\n",
        "\n",
        "print(\"Lasso MAE:\", lasso_mae)\n",
        "print(\"Ridge MAE:\", ridge_mae)\n"
      ],
      "metadata": {
        "colab": {
          "base_uri": "https://localhost:8080/"
        },
        "id": "GIlGR2B09jCM",
        "outputId": "007feeee-22aa-4516-c845-c09faeb984ea"
      },
      "execution_count": 21,
      "outputs": [
        {
          "output_type": "stream",
          "name": "stdout",
          "text": [
            "Lasso MAE: 1.7188147603531425\n",
            "Ridge MAE: 1.6954749186347362\n"
          ]
        }
      ]
    },
    {
      "cell_type": "code",
      "source": [
        "#ridge lasso r2\n",
        "from sklearn.metrics import r2_score\n",
        "\n",
        "# Assuming lasso_model and ridge_model are your trained Lasso and Ridge models, and X_test, y_test are your test data\n",
        "\n",
        "# Predictions for Lasso and Ridge models\n",
        "lasso_predictions = lasso_model.predict(X_test)\n",
        "ridge_predictions = ridge_model.predict(X_test)\n",
        "\n",
        "# Calculate R2 score for Lasso and Ridge\n",
        "lasso_r2 = r2_score(y_test, lasso_predictions)\n",
        "ridge_r2 = r2_score(y_test, ridge_predictions)\n",
        "\n",
        "print(\"Lasso R-squared:\", lasso_r2)\n",
        "print(\"Ridge R-squared:\", ridge_r2)\n"
      ],
      "metadata": {
        "colab": {
          "base_uri": "https://localhost:8080/"
        },
        "id": "42A4kC3Z9jsj",
        "outputId": "67bba3f0-7d57-40e2-9d8b-bd1409268b71"
      },
      "execution_count": 22,
      "outputs": [
        {
          "output_type": "stream",
          "name": "stdout",
          "text": [
            "Lasso R-squared: 0.9967661023487743\n",
            "Ridge R-squared: 0.9969941982011162\n"
          ]
        }
      ]
    },
    {
      "cell_type": "code",
      "source": [
        "#multicollinearity = no multicollinearity\n",
        "import pandas as pd\n",
        "import statsmodels.api as sm\n",
        "from statsmodels.stats.outliers_influence import variance_inflation_factor\n",
        "\n",
        "# Assuming df is your DataFrame containing the independent variables\n",
        "\n",
        "# Add a constant term to the independent variables matrix\n",
        "X = sm.add_constant(df)\n",
        "\n",
        "# Calculate VIF for each variable\n",
        "vif_data = pd.DataFrame()\n",
        "vif_data[\"Variable\"] = X.columns\n",
        "vif_data[\"VIF\"] = [variance_inflation_factor(X.values, i) for i in range(X.shape[1])]\n",
        "\n",
        "# Display the VIF values\n",
        "print(\"VIF values:\")\n",
        "print(vif_data)\n"
      ],
      "metadata": {
        "colab": {
          "base_uri": "https://localhost:8080/"
        },
        "id": "aZZFt61Q9S0z",
        "outputId": "08bd36ee-a1d8-438c-f88d-46c4aea60603"
      },
      "execution_count": 23,
      "outputs": [
        {
          "output_type": "stream",
          "name": "stdout",
          "text": [
            "VIF values:\n",
            "   Variable          VIF\n",
            "0     const  2351.201905\n",
            "1       CPI   327.528764\n",
            "2        M2   494.139184\n",
            "3    UNRATE     5.874674\n",
            "4      DSPI  1062.508114\n",
            "5       PCE  1206.116766\n",
            "6  FEDFUNDS     6.303832\n",
            "7    INDPRO    31.180282\n",
            "8      M1SL   109.721650\n"
          ]
        }
      ]
    }
  ]
}